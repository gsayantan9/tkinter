{
 "cells": [
  {
   "cell_type": "code",
   "execution_count": 4,
   "metadata": {},
   "outputs": [
    {
     "name": "stdout",
     "output_type": "stream",
     "text": [
      "<html>\n",
      "<head>\n",
      "<title>Profile: Dionysus</title>\n",
      "</head>\n",
      "<body bgcolor=\"yellow\">\n",
      "<center>\n",
      "<br/><br/>\n",
      "<img src=\"/static/dionysus.jpg\"/>\n",
      "<h2>Name: Dionysus</h2>\n",
      "<img src=\"/static/grapes.png\"/><br/><br/>\n",
      "Hometown: Mount Olympus\n",
      "<br/><br/>\n",
      "Favorite animal: Leopard <br/>\n",
      "<br/>\n",
      "Favorite Color: Wine\n",
      "</center>\n",
      "</body>\n",
      "</html>\n",
      "\n",
      "Profile: DionysusName: DionysusHometown: Mount OlympusFavorite animal: Leopard Favorite Color: Wine\n"
     ]
    }
   ],
   "source": [
    "from bs4 import BeautifulSoup\n",
    "from urllib.request import urlopen\n",
    "\n",
    "url = \"http://olympus.realpython.org/profiles/dionysus\"\n",
    "\n",
    "page = urlopen(url=url)\n",
    "\n",
    "html = page.read().decode(\"utf-8\")\n",
    "\n",
    "soup = BeautifulSoup(html,\"html.parser\")\n",
    "\n",
    "print(soup)\n",
    "print(soup.get_text().replace(\"\\n\",\"\"))"
   ]
  },
  {
   "cell_type": "code",
   "execution_count": 5,
   "metadata": {},
   "outputs": [
    {
     "data": {
      "text/plain": [
       "[<img src=\"/static/dionysus.jpg\"/>, <img src=\"/static/grapes.png\"/>]"
      ]
     },
     "execution_count": 5,
     "metadata": {},
     "output_type": "execute_result"
    }
   ],
   "source": [
    "soup.find_all(\"img\")"
   ]
  },
  {
   "cell_type": "code",
   "execution_count": 6,
   "metadata": {},
   "outputs": [],
   "source": [
    "im1, im2 = soup.find_all(\"img\")"
   ]
  },
  {
   "cell_type": "code",
   "execution_count": 7,
   "metadata": {},
   "outputs": [
    {
     "data": {
      "text/plain": [
       "<img src=\"/static/dionysus.jpg\"/>"
      ]
     },
     "execution_count": 7,
     "metadata": {},
     "output_type": "execute_result"
    }
   ],
   "source": [
    "im1"
   ]
  },
  {
   "cell_type": "code",
   "execution_count": 8,
   "metadata": {},
   "outputs": [
    {
     "data": {
      "text/plain": [
       "<img src=\"/static/grapes.png\"/>"
      ]
     },
     "execution_count": 8,
     "metadata": {},
     "output_type": "execute_result"
    }
   ],
   "source": [
    "im2"
   ]
  },
  {
   "cell_type": "code",
   "execution_count": 10,
   "metadata": {},
   "outputs": [
    {
     "data": {
      "text/plain": [
       "'/static/dionysus.jpg'"
      ]
     },
     "execution_count": 10,
     "metadata": {},
     "output_type": "execute_result"
    }
   ],
   "source": [
    "im1[\"src\"]"
   ]
  },
  {
   "cell_type": "code",
   "execution_count": 11,
   "metadata": {},
   "outputs": [
    {
     "data": {
      "text/plain": [
       "'/static/grapes.png'"
      ]
     },
     "execution_count": 11,
     "metadata": {},
     "output_type": "execute_result"
    }
   ],
   "source": [
    "im2[\"src\"]"
   ]
  },
  {
   "cell_type": "code",
   "execution_count": 1,
   "metadata": {},
   "outputs": [
    {
     "name": "stdout",
     "output_type": "stream",
     "text": [
      "css-15cggpf\n"
     ]
    },
    {
     "ename": "Error",
     "evalue": "document.querySelector(...) is null\n@debugger eval code line 226 > eval:1:16\nevaluate@debugger eval code:233:19\n@debugger eval code:1:44\n",
     "output_type": "error",
     "traceback": [
      "\u001b[0;31m---------------------------------------------------------------------------\u001b[0m",
      "\u001b[0;31mError\u001b[0m                                     Traceback (most recent call last)",
      "Cell \u001b[0;32mIn[1], line 38\u001b[0m\n\u001b[1;32m     35\u001b[0m         \u001b[38;5;28;01mawait\u001b[39;00m browser\u001b[38;5;241m.\u001b[39mclose()\n\u001b[1;32m     37\u001b[0m \u001b[38;5;66;03m# Run the verification function\u001b[39;00m\n\u001b[0;32m---> 38\u001b[0m \u001b[38;5;28;01mawait\u001b[39;00m verify_page_entry()\n",
      "Cell \u001b[0;32mIn[1], line 21\u001b[0m, in \u001b[0;36mverify_page_entry\u001b[0;34m()\u001b[0m\n\u001b[1;32m     19\u001b[0m \u001b[38;5;28;01mawait\u001b[39;00m page\u001b[38;5;241m.\u001b[39mscreenshot(path\u001b[38;5;241m=\u001b[39m\u001b[38;5;124m\"\u001b[39m\u001b[38;5;124m input battery screenshot1.png\u001b[39m\u001b[38;5;124m\"\u001b[39m)\n\u001b[1;32m     20\u001b[0m \u001b[38;5;28mprint\u001b[39m(dollar)\n\u001b[0;32m---> 21\u001b[0m element_dollars \u001b[38;5;241m=\u001b[39m \u001b[38;5;28;01mawait\u001b[39;00m page\u001b[38;5;241m.\u001b[39mevaluate(\u001b[38;5;124mf\u001b[39m\u001b[38;5;124m\"\u001b[39m\u001b[38;5;124m() => document.querySelector(\u001b[39m\u001b[38;5;124m'\u001b[39m\u001b[38;5;124m.\u001b[39m\u001b[38;5;132;01m{\u001b[39;00mdollar\u001b[38;5;132;01m}\u001b[39;00m\u001b[38;5;124m'\u001b[39m\u001b[38;5;124m).textContent\u001b[39m\u001b[38;5;124m\"\u001b[39m)\n\u001b[1;32m     22\u001b[0m elements_cent \u001b[38;5;241m=\u001b[39m \u001b[38;5;28;01mawait\u001b[39;00m page\u001b[38;5;241m.\u001b[39mevaluate(\u001b[38;5;124mf\u001b[39m\u001b[38;5;124m\"\u001b[39m\u001b[38;5;124m() => document.querySelector(\u001b[39m\u001b[38;5;124m'\u001b[39m\u001b[38;5;124m.\u001b[39m\u001b[38;5;132;01m{\u001b[39;00mcent\u001b[38;5;132;01m}\u001b[39;00m\u001b[38;5;124m'\u001b[39m\u001b[38;5;124m).textContent\u001b[39m\u001b[38;5;124m\"\u001b[39m)\n\u001b[1;32m     23\u001b[0m dollar_amount \u001b[38;5;241m=\u001b[39m element_dollars \u001b[38;5;241m+\u001b[39m \u001b[38;5;124m\"\u001b[39m\u001b[38;5;124m\"\u001b[39m \u001b[38;5;241m+\u001b[39m elements_cent\n",
      "File \u001b[0;32m~/.python/current/lib/python3.10/site-packages/playwright/async_api/_generated.py:8689\u001b[0m, in \u001b[0;36mPage.evaluate\u001b[0;34m(self, expression, arg)\u001b[0m\n\u001b[1;32m   8619\u001b[0m \u001b[38;5;28;01masync\u001b[39;00m \u001b[38;5;28;01mdef\u001b[39;00m \u001b[38;5;21mevaluate\u001b[39m(\n\u001b[1;32m   8620\u001b[0m     \u001b[38;5;28mself\u001b[39m, expression: \u001b[38;5;28mstr\u001b[39m, arg: typing\u001b[38;5;241m.\u001b[39mOptional[typing\u001b[38;5;241m.\u001b[39mAny] \u001b[38;5;241m=\u001b[39m \u001b[38;5;28;01mNone\u001b[39;00m\n\u001b[1;32m   8621\u001b[0m ) \u001b[38;5;241m-\u001b[39m\u001b[38;5;241m>\u001b[39m typing\u001b[38;5;241m.\u001b[39mAny:\n\u001b[1;32m   8622\u001b[0m \u001b[38;5;250m    \u001b[39m\u001b[38;5;124;03m\"\"\"Page.evaluate\u001b[39;00m\n\u001b[1;32m   8623\u001b[0m \n\u001b[1;32m   8624\u001b[0m \u001b[38;5;124;03m    Returns the value of the `expression` invocation.\u001b[39;00m\n\u001b[0;32m   (...)\u001b[0m\n\u001b[1;32m   8685\u001b[0m \u001b[38;5;124;03m    Any\u001b[39;00m\n\u001b[1;32m   8686\u001b[0m \u001b[38;5;124;03m    \"\"\"\u001b[39;00m\n\u001b[1;32m   8688\u001b[0m     \u001b[38;5;28;01mreturn\u001b[39;00m mapping\u001b[38;5;241m.\u001b[39mfrom_maybe_impl(\n\u001b[0;32m-> 8689\u001b[0m         \u001b[38;5;28;01mawait\u001b[39;00m \u001b[38;5;28mself\u001b[39m\u001b[38;5;241m.\u001b[39m_impl_obj\u001b[38;5;241m.\u001b[39mevaluate(\n\u001b[1;32m   8690\u001b[0m             expression\u001b[38;5;241m=\u001b[39mexpression, arg\u001b[38;5;241m=\u001b[39mmapping\u001b[38;5;241m.\u001b[39mto_impl(arg)\n\u001b[1;32m   8691\u001b[0m         )\n\u001b[1;32m   8692\u001b[0m     )\n",
      "File \u001b[0;32m~/.python/current/lib/python3.10/site-packages/playwright/_impl/_page.py:400\u001b[0m, in \u001b[0;36mPage.evaluate\u001b[0;34m(self, expression, arg)\u001b[0m\n\u001b[1;32m    399\u001b[0m \u001b[38;5;28;01masync\u001b[39;00m \u001b[38;5;28;01mdef\u001b[39;00m \u001b[38;5;21mevaluate\u001b[39m(\u001b[38;5;28mself\u001b[39m, expression: \u001b[38;5;28mstr\u001b[39m, arg: Serializable \u001b[38;5;241m=\u001b[39m \u001b[38;5;28;01mNone\u001b[39;00m) \u001b[38;5;241m-\u001b[39m\u001b[38;5;241m>\u001b[39m Any:\n\u001b[0;32m--> 400\u001b[0m     \u001b[38;5;28;01mreturn\u001b[39;00m \u001b[38;5;28;01mawait\u001b[39;00m \u001b[38;5;28mself\u001b[39m\u001b[38;5;241m.\u001b[39m_main_frame\u001b[38;5;241m.\u001b[39mevaluate(expression, arg)\n",
      "File \u001b[0;32m~/.python/current/lib/python3.10/site-packages/playwright/_impl/_frame.py:282\u001b[0m, in \u001b[0;36mFrame.evaluate\u001b[0;34m(self, expression, arg)\u001b[0m\n\u001b[1;32m    280\u001b[0m \u001b[38;5;28;01masync\u001b[39;00m \u001b[38;5;28;01mdef\u001b[39;00m \u001b[38;5;21mevaluate\u001b[39m(\u001b[38;5;28mself\u001b[39m, expression: \u001b[38;5;28mstr\u001b[39m, arg: Serializable \u001b[38;5;241m=\u001b[39m \u001b[38;5;28;01mNone\u001b[39;00m) \u001b[38;5;241m-\u001b[39m\u001b[38;5;241m>\u001b[39m Any:\n\u001b[1;32m    281\u001b[0m     \u001b[38;5;28;01mreturn\u001b[39;00m parse_result(\n\u001b[0;32m--> 282\u001b[0m         \u001b[38;5;28;01mawait\u001b[39;00m \u001b[38;5;28mself\u001b[39m\u001b[38;5;241m.\u001b[39m_channel\u001b[38;5;241m.\u001b[39msend(\n\u001b[1;32m    283\u001b[0m             \u001b[38;5;124m\"\u001b[39m\u001b[38;5;124mevaluateExpression\u001b[39m\u001b[38;5;124m\"\u001b[39m,\n\u001b[1;32m    284\u001b[0m             \u001b[38;5;28mdict\u001b[39m(\n\u001b[1;32m    285\u001b[0m                 expression\u001b[38;5;241m=\u001b[39mexpression,\n\u001b[1;32m    286\u001b[0m                 arg\u001b[38;5;241m=\u001b[39mserialize_argument(arg),\n\u001b[1;32m    287\u001b[0m             ),\n\u001b[1;32m    288\u001b[0m         )\n\u001b[1;32m    289\u001b[0m     )\n",
      "File \u001b[0;32m~/.python/current/lib/python3.10/site-packages/playwright/_impl/_connection.py:63\u001b[0m, in \u001b[0;36mChannel.send\u001b[0;34m(self, method, params)\u001b[0m\n\u001b[1;32m     62\u001b[0m \u001b[38;5;28;01masync\u001b[39;00m \u001b[38;5;28;01mdef\u001b[39;00m \u001b[38;5;21msend\u001b[39m(\u001b[38;5;28mself\u001b[39m, method: \u001b[38;5;28mstr\u001b[39m, params: Dict \u001b[38;5;241m=\u001b[39m \u001b[38;5;28;01mNone\u001b[39;00m) \u001b[38;5;241m-\u001b[39m\u001b[38;5;241m>\u001b[39m Any:\n\u001b[0;32m---> 63\u001b[0m     \u001b[38;5;28;01mreturn\u001b[39;00m \u001b[38;5;28;01mawait\u001b[39;00m \u001b[38;5;28mself\u001b[39m\u001b[38;5;241m.\u001b[39m_connection\u001b[38;5;241m.\u001b[39mwrap_api_call(\n\u001b[1;32m     64\u001b[0m         \u001b[38;5;28;01mlambda\u001b[39;00m: \u001b[38;5;28mself\u001b[39m\u001b[38;5;241m.\u001b[39minner_send(method, params, \u001b[38;5;28;01mFalse\u001b[39;00m)\n\u001b[1;32m     65\u001b[0m     )\n",
      "File \u001b[0;32m~/.python/current/lib/python3.10/site-packages/playwright/_impl/_connection.py:495\u001b[0m, in \u001b[0;36mConnection.wrap_api_call\u001b[0;34m(self, cb, is_internal)\u001b[0m\n\u001b[1;32m    493\u001b[0m \u001b[38;5;28mself\u001b[39m\u001b[38;5;241m.\u001b[39m_api_zone\u001b[38;5;241m.\u001b[39mset(_extract_stack_trace_information_from_stack(st, is_internal))\n\u001b[1;32m    494\u001b[0m \u001b[38;5;28;01mtry\u001b[39;00m:\n\u001b[0;32m--> 495\u001b[0m     \u001b[38;5;28;01mreturn\u001b[39;00m \u001b[38;5;28;01mawait\u001b[39;00m cb()\n\u001b[1;32m    496\u001b[0m \u001b[38;5;28;01mfinally\u001b[39;00m:\n\u001b[1;32m    497\u001b[0m     \u001b[38;5;28mself\u001b[39m\u001b[38;5;241m.\u001b[39m_api_zone\u001b[38;5;241m.\u001b[39mset(\u001b[38;5;28;01mNone\u001b[39;00m)\n",
      "File \u001b[0;32m~/.python/current/lib/python3.10/site-packages/playwright/_impl/_connection.py:101\u001b[0m, in \u001b[0;36mChannel.inner_send\u001b[0;34m(self, method, params, return_as_dict)\u001b[0m\n\u001b[1;32m     99\u001b[0m \u001b[38;5;28;01mif\u001b[39;00m \u001b[38;5;129;01mnot\u001b[39;00m callback\u001b[38;5;241m.\u001b[39mfuture\u001b[38;5;241m.\u001b[39mdone():\n\u001b[1;32m    100\u001b[0m     callback\u001b[38;5;241m.\u001b[39mfuture\u001b[38;5;241m.\u001b[39mcancel()\n\u001b[0;32m--> 101\u001b[0m result \u001b[38;5;241m=\u001b[39m \u001b[38;5;28;43mnext\u001b[39;49m\u001b[43m(\u001b[49m\u001b[38;5;28;43miter\u001b[39;49m\u001b[43m(\u001b[49m\u001b[43mdone\u001b[49m\u001b[43m)\u001b[49m\u001b[43m)\u001b[49m\u001b[38;5;241;43m.\u001b[39;49m\u001b[43mresult\u001b[49m\u001b[43m(\u001b[49m\u001b[43m)\u001b[49m\n\u001b[1;32m    102\u001b[0m \u001b[38;5;66;03m# Protocol now has named return values, assume result is one level deeper unless\u001b[39;00m\n\u001b[1;32m    103\u001b[0m \u001b[38;5;66;03m# there is explicit ambiguity.\u001b[39;00m\n\u001b[1;32m    104\u001b[0m \u001b[38;5;28;01mif\u001b[39;00m \u001b[38;5;129;01mnot\u001b[39;00m result:\n",
      "\u001b[0;31mError\u001b[0m: document.querySelector(...) is null\n@debugger eval code line 226 > eval:1:16\nevaluate@debugger eval code:233:19\n@debugger eval code:1:44\n"
     ]
    }
   ],
   "source": [
    "import asyncio\n",
    "from playwright.async_api import async_playwright,Page\n",
    "url3='https://shop.advanceautoparts.com/'\n",
    "# parts = '674-136'\n",
    "parts = \"49058\"\n",
    "dollar = 'css-15cggpf'\n",
    "cent = 'css-2izyy6'\n",
    "async def verify_page_entry():\n",
    "    async with async_playwright() as p:\n",
    "        browser = await p.firefox.launch()\n",
    "        context = await browser.new_context()\n",
    "        page = await context.new_page()\n",
    "        response = await page.goto(url3)\n",
    "        elements = await page.locator(\"#search-input\").fill(f\"{parts}\") \n",
    "        await page.keyboard.press(\"Enter\")\n",
    "        await page.wait_for_timeout(5000)\n",
    "\n",
    "\n",
    "        await page.screenshot(path=\" input battery screenshot1.png\")\n",
    "        print(dollar)\n",
    "        element_dollars = await page.evaluate(f\"() => document.querySelector('.{dollar}').textContent\")\n",
    "        elements_cent = await page.evaluate(f\"() => document.querySelector('.{cent}').textContent\")\n",
    "        dollar_amount = element_dollars + \"\" + elements_cent\n",
    "        # # Check the HTTP response status code to verify successful entry\n",
    "        print('Compprice $:',dollar_amount)\n",
    "        \n",
    "        status = response.status\n",
    "        if status == 200:\n",
    "            print(f\"Successfully entered the shop adavance website for parts number  = {parts}\")\n",
    "            print(status)\n",
    "        else:\n",
    "            print(f\"Failed to enter the website. Status code: {status}\")\n",
    "\n",
    "        # Close the browser\n",
    "        await browser.close()\n",
    "\n",
    "# Run the verification function\n",
    "await verify_page_entry()"
   ]
  },
  {
   "cell_type": "code",
   "execution_count": 2,
   "metadata": {},
   "outputs": [
    {
     "ename": "RuntimeError",
     "evalue": "asyncio.run() cannot be called from a running event loop",
     "output_type": "error",
     "traceback": [
      "\u001b[0;31m---------------------------------------------------------------------------\u001b[0m",
      "\u001b[0;31mRuntimeError\u001b[0m                              Traceback (most recent call last)",
      "Cell \u001b[0;32mIn[2], line 16\u001b[0m\n\u001b[1;32m     14\u001b[0m     \u001b[38;5;28;01masync\u001b[39;00m \u001b[38;5;28;01mwith\u001b[39;00m async_playwright() \u001b[38;5;28;01mas\u001b[39;00m playwright:\n\u001b[1;32m     15\u001b[0m         \u001b[38;5;28;01mawait\u001b[39;00m run(playwright)\n\u001b[0;32m---> 16\u001b[0m \u001b[43masyncio\u001b[49m\u001b[38;5;241;43m.\u001b[39;49m\u001b[43mrun\u001b[49m\u001b[43m(\u001b[49m\u001b[43mmain\u001b[49m\u001b[43m(\u001b[49m\u001b[43m)\u001b[49m\u001b[43m)\u001b[49m\n",
      "File \u001b[0;32m~/.python/current/lib/python3.10/asyncio/runners.py:33\u001b[0m, in \u001b[0;36mrun\u001b[0;34m(main, debug)\u001b[0m\n\u001b[1;32m      9\u001b[0m \u001b[38;5;250m\u001b[39m\u001b[38;5;124;03m\"\"\"Execute the coroutine and return the result.\u001b[39;00m\n\u001b[1;32m     10\u001b[0m \n\u001b[1;32m     11\u001b[0m \u001b[38;5;124;03mThis function runs the passed coroutine, taking care of\u001b[39;00m\n\u001b[0;32m   (...)\u001b[0m\n\u001b[1;32m     30\u001b[0m \u001b[38;5;124;03m    asyncio.run(main())\u001b[39;00m\n\u001b[1;32m     31\u001b[0m \u001b[38;5;124;03m\"\"\"\u001b[39;00m\n\u001b[1;32m     32\u001b[0m \u001b[38;5;28;01mif\u001b[39;00m events\u001b[38;5;241m.\u001b[39m_get_running_loop() \u001b[38;5;129;01mis\u001b[39;00m \u001b[38;5;129;01mnot\u001b[39;00m \u001b[38;5;28;01mNone\u001b[39;00m:\n\u001b[0;32m---> 33\u001b[0m     \u001b[38;5;28;01mraise\u001b[39;00m \u001b[38;5;167;01mRuntimeError\u001b[39;00m(\n\u001b[1;32m     34\u001b[0m         \u001b[38;5;124m\"\u001b[39m\u001b[38;5;124masyncio.run() cannot be called from a running event loop\u001b[39m\u001b[38;5;124m\"\u001b[39m)\n\u001b[1;32m     36\u001b[0m \u001b[38;5;28;01mif\u001b[39;00m \u001b[38;5;129;01mnot\u001b[39;00m coroutines\u001b[38;5;241m.\u001b[39miscoroutine(main):\n\u001b[1;32m     37\u001b[0m     \u001b[38;5;28;01mraise\u001b[39;00m \u001b[38;5;167;01mValueError\u001b[39;00m(\u001b[38;5;124m\"\u001b[39m\u001b[38;5;124ma coroutine was expected, got \u001b[39m\u001b[38;5;132;01m{!r}\u001b[39;00m\u001b[38;5;124m\"\u001b[39m\u001b[38;5;241m.\u001b[39mformat(main))\n",
      "\u001b[0;31mRuntimeError\u001b[0m: asyncio.run() cannot be called from a running event loop"
     ]
    }
   ],
   "source": [
    "import asyncio\n",
    "from playwright.async_api import async_playwright, Playwright\n",
    "\n",
    "async def run(playwright: Playwright):\n",
    "    iphone_13 = playwright.devices['iPhone 13']\n",
    "    browser = await playwright.webkit.launch(headless=False)\n",
    "    # context = await browser.new_context(\n",
    "    #     **iphone_13,\n",
    "    context = await browser.new_context(geolocation={\"longitude\": 41.890221, \"latitude\": 12.492348},\n",
    "                                        permissions=[\"geolocation\"]\n",
    "  )\n",
    "\n",
    "async def main():\n",
    "    async with async_playwright() as playwright:\n",
    "        await run(playwright)\n",
    "asyncio.run(main())"
   ]
  },
  {
   "cell_type": "code",
   "execution_count": 3,
   "metadata": {},
   "outputs": [],
   "source": [
    "import cv2\n",
    "import easyocr\n",
    "import matplotlib.pyplot as plt"
   ]
  },
  {
   "cell_type": "code",
   "execution_count": 4,
   "metadata": {},
   "outputs": [
    {
     "data": {
      "text/plain": [
       "(830, 1847, 4)"
      ]
     },
     "execution_count": 4,
     "metadata": {},
     "output_type": "execute_result"
    }
   ],
   "source": [
    "image_path = \"./advance_auto_49058.jpeg\"\n",
    "img = cv2.imread(image_path,cv2.IMREAD_UNCHANGED)\n",
    "img.shape"
   ]
  },
  {
   "cell_type": "code",
   "execution_count": 5,
   "metadata": {},
   "outputs": [
    {
     "name": "stderr",
     "output_type": "stream",
     "text": [
      "Using CPU. Note: This module is much faster with a GPU.\n"
     ]
    },
    {
     "name": "stdout",
     "output_type": "stream",
     "text": [
      "([[37, 12], [160, 12], [160, 45], [37, 45]], 'Advancel', 0.5266831524121273)\n",
      "([[307, 27], [419, 27], [419, 47], [307, 47]], 'Add a vehicle', 0.6896356220160866)\n",
      "([[513, 25], [567, 25], [567, 45], [513, 45]], '49058', 0.9999993602557958)\n",
      "([[1485, 29], [1593, 29], [1593, 47], [1485, 47]], 'Choose a Store', 0.9647640688170119)\n",
      "([[1700, 28], [1763, 28], [1763, 48], [1700, 48]], 'Account', 0.9999971163585742)\n",
      "([[22, 36], [154, 36], [154, 62], [22, 62]], 'AutoPartsl', 0.5409186957954764)\n",
      "([[65, 71], [266, 71], [266, 96], [65, 96]], 'SHIPPING & PICKUP', 0.7961781635751964)\n",
      "([[525, 89], [1125, 89], [1125, 126], [525, 126]], 'Please Select your Vehicle to See Exact Fit Parts', 0.8487736294932442)\n",
      "([[1372, 92], [1634, 92], [1634, 121], [1372, 121]], 'Add Vehicle Using License Plate', 0.8569880880517837)\n",
      "([[1646, 92], [1832, 92], [1832, 120], [1646, 120]], 'Add Vehicle Using VIN', 0.9618472235097927)\n",
      "([[92, 123], [234, 123], [234, 148], [92, 148]], 'Ship to Home (3)', 0.6557159510778356)\n",
      "([[541, 151], [633, 151], [633, 171], [541, 171]], 'Car/Truck', 0.9337071457774586)\n",
      "([[751, 151], [797, 151], [797, 171], [751, 171]], 'Year', 0.9999772906303406)\n",
      "([[965, 151], [1017, 151], [1017, 171], [965, 171]], 'Make', 0.9999992251396179)\n",
      "([[1175, 151], [1233, 151], [1233, 171], [1175, 171]], 'Model', 0.9999890177177925)\n",
      "([[1386, 150], [1450, 150], [1450, 176], [1386, 176]], 'Engine', 0.9999973719818359)\n",
      "([[1684, 152], [1728, 152], [1728, 176], [1684, 176]], 'Ade', 0.22402051415160096)\n",
      "([[66, 200], [178, 200], [178, 224], [66, 224]], 'CATEGORY', 0.9998048943541719)\n",
      "([[92, 250], [306, 250], [306, 274], [92, 274]], 'Transmission Solenoid (1)', 0.9529741133911)\n",
      "([[92, 280], [278, 280], [278, 304], [92, 304]], 'Catalytic Converter (1)', 0.8365330784114999)\n",
      "([[92, 306], [294, 306], [294, 330], [92, 330]], 'Rear Shock and Strut (1)', 0.8969378383120808)\n",
      "([[68, 381], [259, 381], [259, 406], [68, 406]], 'PRODUCT RATINGS', 0.990657415782747)\n",
      "([[103, 437], [219, 437], [219, 457], [103, 457]], 'Not Yet Rated', 0.7276993544548092)\n",
      "([[975, 475], [1079, 475], [1079, 511], [975, 511]], '$662.99', 0.36767285110645676)\n",
      "([[1427, 475], [1511, 475], [1511, 511], [1427, 511]], '$66.87', 0.5159483299696418)\n",
      "([[68, 512], [144, 512], [144, 536], [68, 536]], 'BRAND', 0.9999922164422349)\n",
      "([[980, 514], [1374, 514], [1374, 542], [980, 542]], 'MagnaFlow Direct Fit Catalytic Converter:', 0.799421542395401)\n",
      "([[1428, 513], [1816, 513], [1816, 540], [1428, 540]], 'International Suspension Group Shock', 0.8715198082011397)\n",
      "([[980, 542], [1360, 542], [1360, 572], [980, 572]], 'No Fabrication Needed, EPA Compliance', 0.9116513560346419)\n",
      "([[1430, 544], [1522, 544], [1522, 568], [1430, 568]], 'Absorber', 0.9999814827379673)\n",
      "([[92, 564], [192, 564], [192, 588], [92, 588]], 'ACDelco (1)', 0.608414789750047)\n",
      "([[979, 583], [1073, 583], [1073, 603], [979, 603]], 'Part # 49058', 0.998060380314904)\n",
      "([[1081, 577], [1267, 577], [1267, 597], [1081, 597]], 'Excluded from discounts', 0.8838882903916662)\n",
      "([[1431, 583], [1607, 583], [1607, 603], [1431, 603]], 'Part # L40001449058ISG', 0.6894758065540751)\n",
      "([[1617, 581], [1799, 581], [1799, 597], [1617, 597]], 'Excluded from discounts', 0.9995544852427432)\n",
      "([[92, 590], [384, 590], [384, 616], [92, 616]], 'International Suspension Group (1)', 0.9621777421668443)\n",
      "([[1109, 613], [1199, 613], [1199, 629], [1109, 629]], 'No Reviews', 0.638781140386306)\n",
      "([[1559, 611], [1651, 611], [1651, 629], [1559, 629]], 'No Reviews', 0.5490347798427094)\n",
      "([[92, 620], [216, 620], [216, 646], [92, 646]], 'MagnaFlow (1)', 0.9843059315043468)\n",
      "([[979, 651], [1189, 651], [1189, 671], [979, 671]], '5 Yr Replacement If Defective', 0.6430386633264811)\n",
      "([[1431, 651], [1639, 651], [1639, 671], [1431, 671]], '1Yr Replacement If Defective', 0.6865143637973334)\n",
      "([[993, 683], [1015, 683], [1015, 703], [993, 703]], '0', 0.9995076385048155)\n",
      "([[1025, 683], [1265, 683], [1265, 703], [1025, 703]], 'AddA Vehicleto Check Fitment', 0.8093724697309409)\n",
      "([[1475, 683], [1715, 683], [1715, 703], [1475, 703]], 'AddA Vehicle_to Check Eitment', 0.8071524925493974)\n",
      "([[68, 694], [130, 694], [130, 718], [68, 718]], 'PRICE', 0.9998105802930782)\n",
      "([[550, 724], [904, 724], [904, 750], [550, 750]], 'Catalytic Converter Project Builder', 0.9668239711006434)\n",
      "([[92, 746], [222, 746], [222, 770], [92, 770]], '$50 - $99.99 (1)', 0.5592539274201185)\n",
      "([[546, 754], [910, 754], [910, 780], [546, 780]], 'Find The Parts For Your Project: Repair', 0.9937111387208865)\n",
      "([[90, 774], [224, 774], [224, 798], [90, 798]], '$100 and up (2)', 0.6156014452460602)\n",
      "([[544, 783], [910, 783], [910, 811], [544, 811]], 'Level: Hard. Please Consult The Proper', 0.7614406749238227)\n",
      "([[677, 817], [775, 817], [775, 830], [677, 830]], 'Pecourcoc', 0.411586927722809)\n"
     ]
    }
   ],
   "source": [
    "reader = easyocr.Reader([\"en\"],gpu=False)\n",
    "text_list = reader.readtext(img)\n",
    "for t in text_list:\n",
    "    print(t)"
   ]
  },
  {
   "cell_type": "code",
   "execution_count": null,
   "metadata": {},
   "outputs": [],
   "source": []
  }
 ],
 "metadata": {
  "kernelspec": {
   "display_name": "Python 3",
   "language": "python",
   "name": "python3"
  },
  "language_info": {
   "codemirror_mode": {
    "name": "ipython",
    "version": 3
   },
   "file_extension": ".py",
   "mimetype": "text/x-python",
   "name": "python",
   "nbconvert_exporter": "python",
   "pygments_lexer": "ipython3",
   "version": "3.10.13"
  }
 },
 "nbformat": 4,
 "nbformat_minor": 2
}
