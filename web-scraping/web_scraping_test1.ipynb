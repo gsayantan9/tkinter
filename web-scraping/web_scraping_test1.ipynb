{
 "cells": [
  {
   "cell_type": "code",
   "execution_count": 4,
   "metadata": {},
   "outputs": [
    {
     "name": "stdout",
     "output_type": "stream",
     "text": [
      "<html>\n",
      "<head>\n",
      "<title>Profile: Dionysus</title>\n",
      "</head>\n",
      "<body bgcolor=\"yellow\">\n",
      "<center>\n",
      "<br/><br/>\n",
      "<img src=\"/static/dionysus.jpg\"/>\n",
      "<h2>Name: Dionysus</h2>\n",
      "<img src=\"/static/grapes.png\"/><br/><br/>\n",
      "Hometown: Mount Olympus\n",
      "<br/><br/>\n",
      "Favorite animal: Leopard <br/>\n",
      "<br/>\n",
      "Favorite Color: Wine\n",
      "</center>\n",
      "</body>\n",
      "</html>\n",
      "\n",
      "Profile: DionysusName: DionysusHometown: Mount OlympusFavorite animal: Leopard Favorite Color: Wine\n"
     ]
    }
   ],
   "source": [
    "from bs4 import BeautifulSoup\n",
    "from urllib.request import urlopen\n",
    "\n",
    "url = \"http://olympus.realpython.org/profiles/dionysus\"\n",
    "\n",
    "page = urlopen(url=url)\n",
    "\n",
    "html = page.read().decode(\"utf-8\")\n",
    "\n",
    "soup = BeautifulSoup(html,\"html.parser\")\n",
    "\n",
    "print(soup)\n",
    "print(soup.get_text().replace(\"\\n\",\"\"))"
   ]
  },
  {
   "cell_type": "code",
   "execution_count": 5,
   "metadata": {},
   "outputs": [
    {
     "data": {
      "text/plain": [
       "[<img src=\"/static/dionysus.jpg\"/>, <img src=\"/static/grapes.png\"/>]"
      ]
     },
     "execution_count": 5,
     "metadata": {},
     "output_type": "execute_result"
    }
   ],
   "source": [
    "soup.find_all(\"img\")"
   ]
  },
  {
   "cell_type": "code",
   "execution_count": 6,
   "metadata": {},
   "outputs": [],
   "source": [
    "im1, im2 = soup.find_all(\"img\")"
   ]
  },
  {
   "cell_type": "code",
   "execution_count": 7,
   "metadata": {},
   "outputs": [
    {
     "data": {
      "text/plain": [
       "<img src=\"/static/dionysus.jpg\"/>"
      ]
     },
     "execution_count": 7,
     "metadata": {},
     "output_type": "execute_result"
    }
   ],
   "source": [
    "im1"
   ]
  },
  {
   "cell_type": "code",
   "execution_count": 8,
   "metadata": {},
   "outputs": [
    {
     "data": {
      "text/plain": [
       "<img src=\"/static/grapes.png\"/>"
      ]
     },
     "execution_count": 8,
     "metadata": {},
     "output_type": "execute_result"
    }
   ],
   "source": [
    "im2"
   ]
  },
  {
   "cell_type": "code",
   "execution_count": 10,
   "metadata": {},
   "outputs": [
    {
     "data": {
      "text/plain": [
       "'/static/dionysus.jpg'"
      ]
     },
     "execution_count": 10,
     "metadata": {},
     "output_type": "execute_result"
    }
   ],
   "source": [
    "im1[\"src\"]"
   ]
  },
  {
   "cell_type": "code",
   "execution_count": 11,
   "metadata": {},
   "outputs": [
    {
     "data": {
      "text/plain": [
       "'/static/grapes.png'"
      ]
     },
     "execution_count": 11,
     "metadata": {},
     "output_type": "execute_result"
    }
   ],
   "source": [
    "im2[\"src\"]"
   ]
  },
  {
   "cell_type": "code",
   "execution_count": 1,
   "metadata": {},
   "outputs": [
    {
     "name": "stdout",
     "output_type": "stream",
     "text": [
      "css-15cggpf\n"
     ]
    },
    {
     "ename": "Error",
     "evalue": "document.querySelector(...) is null\n@debugger eval code line 226 > eval:1:16\nevaluate@debugger eval code:233:19\n@debugger eval code:1:44\n",
     "output_type": "error",
     "traceback": [
      "\u001b[0;31m---------------------------------------------------------------------------\u001b[0m",
      "\u001b[0;31mError\u001b[0m                                     Traceback (most recent call last)",
      "Cell \u001b[0;32mIn[1], line 38\u001b[0m\n\u001b[1;32m     35\u001b[0m         \u001b[38;5;28;01mawait\u001b[39;00m browser\u001b[38;5;241m.\u001b[39mclose()\n\u001b[1;32m     37\u001b[0m \u001b[38;5;66;03m# Run the verification function\u001b[39;00m\n\u001b[0;32m---> 38\u001b[0m \u001b[38;5;28;01mawait\u001b[39;00m verify_page_entry()\n",
      "Cell \u001b[0;32mIn[1], line 21\u001b[0m, in \u001b[0;36mverify_page_entry\u001b[0;34m()\u001b[0m\n\u001b[1;32m     19\u001b[0m \u001b[38;5;28;01mawait\u001b[39;00m page\u001b[38;5;241m.\u001b[39mscreenshot(path\u001b[38;5;241m=\u001b[39m\u001b[38;5;124m\"\u001b[39m\u001b[38;5;124m input battery screenshot1.png\u001b[39m\u001b[38;5;124m\"\u001b[39m)\n\u001b[1;32m     20\u001b[0m \u001b[38;5;28mprint\u001b[39m(dollar)\n\u001b[0;32m---> 21\u001b[0m element_dollars \u001b[38;5;241m=\u001b[39m \u001b[38;5;28;01mawait\u001b[39;00m page\u001b[38;5;241m.\u001b[39mevaluate(\u001b[38;5;124mf\u001b[39m\u001b[38;5;124m\"\u001b[39m\u001b[38;5;124m() => document.querySelector(\u001b[39m\u001b[38;5;124m'\u001b[39m\u001b[38;5;124m.\u001b[39m\u001b[38;5;132;01m{\u001b[39;00mdollar\u001b[38;5;132;01m}\u001b[39;00m\u001b[38;5;124m'\u001b[39m\u001b[38;5;124m).textContent\u001b[39m\u001b[38;5;124m\"\u001b[39m)\n\u001b[1;32m     22\u001b[0m elements_cent \u001b[38;5;241m=\u001b[39m \u001b[38;5;28;01mawait\u001b[39;00m page\u001b[38;5;241m.\u001b[39mevaluate(\u001b[38;5;124mf\u001b[39m\u001b[38;5;124m\"\u001b[39m\u001b[38;5;124m() => document.querySelector(\u001b[39m\u001b[38;5;124m'\u001b[39m\u001b[38;5;124m.\u001b[39m\u001b[38;5;132;01m{\u001b[39;00mcent\u001b[38;5;132;01m}\u001b[39;00m\u001b[38;5;124m'\u001b[39m\u001b[38;5;124m).textContent\u001b[39m\u001b[38;5;124m\"\u001b[39m)\n\u001b[1;32m     23\u001b[0m dollar_amount \u001b[38;5;241m=\u001b[39m element_dollars \u001b[38;5;241m+\u001b[39m \u001b[38;5;124m\"\u001b[39m\u001b[38;5;124m\"\u001b[39m \u001b[38;5;241m+\u001b[39m elements_cent\n",
      "File \u001b[0;32m~/.python/current/lib/python3.10/site-packages/playwright/async_api/_generated.py:8689\u001b[0m, in \u001b[0;36mPage.evaluate\u001b[0;34m(self, expression, arg)\u001b[0m\n\u001b[1;32m   8619\u001b[0m \u001b[38;5;28;01masync\u001b[39;00m \u001b[38;5;28;01mdef\u001b[39;00m \u001b[38;5;21mevaluate\u001b[39m(\n\u001b[1;32m   8620\u001b[0m     \u001b[38;5;28mself\u001b[39m, expression: \u001b[38;5;28mstr\u001b[39m, arg: typing\u001b[38;5;241m.\u001b[39mOptional[typing\u001b[38;5;241m.\u001b[39mAny] \u001b[38;5;241m=\u001b[39m \u001b[38;5;28;01mNone\u001b[39;00m\n\u001b[1;32m   8621\u001b[0m ) \u001b[38;5;241m-\u001b[39m\u001b[38;5;241m>\u001b[39m typing\u001b[38;5;241m.\u001b[39mAny:\n\u001b[1;32m   8622\u001b[0m \u001b[38;5;250m    \u001b[39m\u001b[38;5;124;03m\"\"\"Page.evaluate\u001b[39;00m\n\u001b[1;32m   8623\u001b[0m \n\u001b[1;32m   8624\u001b[0m \u001b[38;5;124;03m    Returns the value of the `expression` invocation.\u001b[39;00m\n\u001b[0;32m   (...)\u001b[0m\n\u001b[1;32m   8685\u001b[0m \u001b[38;5;124;03m    Any\u001b[39;00m\n\u001b[1;32m   8686\u001b[0m \u001b[38;5;124;03m    \"\"\"\u001b[39;00m\n\u001b[1;32m   8688\u001b[0m     \u001b[38;5;28;01mreturn\u001b[39;00m mapping\u001b[38;5;241m.\u001b[39mfrom_maybe_impl(\n\u001b[0;32m-> 8689\u001b[0m         \u001b[38;5;28;01mawait\u001b[39;00m \u001b[38;5;28mself\u001b[39m\u001b[38;5;241m.\u001b[39m_impl_obj\u001b[38;5;241m.\u001b[39mevaluate(\n\u001b[1;32m   8690\u001b[0m             expression\u001b[38;5;241m=\u001b[39mexpression, arg\u001b[38;5;241m=\u001b[39mmapping\u001b[38;5;241m.\u001b[39mto_impl(arg)\n\u001b[1;32m   8691\u001b[0m         )\n\u001b[1;32m   8692\u001b[0m     )\n",
      "File \u001b[0;32m~/.python/current/lib/python3.10/site-packages/playwright/_impl/_page.py:400\u001b[0m, in \u001b[0;36mPage.evaluate\u001b[0;34m(self, expression, arg)\u001b[0m\n\u001b[1;32m    399\u001b[0m \u001b[38;5;28;01masync\u001b[39;00m \u001b[38;5;28;01mdef\u001b[39;00m \u001b[38;5;21mevaluate\u001b[39m(\u001b[38;5;28mself\u001b[39m, expression: \u001b[38;5;28mstr\u001b[39m, arg: Serializable \u001b[38;5;241m=\u001b[39m \u001b[38;5;28;01mNone\u001b[39;00m) \u001b[38;5;241m-\u001b[39m\u001b[38;5;241m>\u001b[39m Any:\n\u001b[0;32m--> 400\u001b[0m     \u001b[38;5;28;01mreturn\u001b[39;00m \u001b[38;5;28;01mawait\u001b[39;00m \u001b[38;5;28mself\u001b[39m\u001b[38;5;241m.\u001b[39m_main_frame\u001b[38;5;241m.\u001b[39mevaluate(expression, arg)\n",
      "File \u001b[0;32m~/.python/current/lib/python3.10/site-packages/playwright/_impl/_frame.py:282\u001b[0m, in \u001b[0;36mFrame.evaluate\u001b[0;34m(self, expression, arg)\u001b[0m\n\u001b[1;32m    280\u001b[0m \u001b[38;5;28;01masync\u001b[39;00m \u001b[38;5;28;01mdef\u001b[39;00m \u001b[38;5;21mevaluate\u001b[39m(\u001b[38;5;28mself\u001b[39m, expression: \u001b[38;5;28mstr\u001b[39m, arg: Serializable \u001b[38;5;241m=\u001b[39m \u001b[38;5;28;01mNone\u001b[39;00m) \u001b[38;5;241m-\u001b[39m\u001b[38;5;241m>\u001b[39m Any:\n\u001b[1;32m    281\u001b[0m     \u001b[38;5;28;01mreturn\u001b[39;00m parse_result(\n\u001b[0;32m--> 282\u001b[0m         \u001b[38;5;28;01mawait\u001b[39;00m \u001b[38;5;28mself\u001b[39m\u001b[38;5;241m.\u001b[39m_channel\u001b[38;5;241m.\u001b[39msend(\n\u001b[1;32m    283\u001b[0m             \u001b[38;5;124m\"\u001b[39m\u001b[38;5;124mevaluateExpression\u001b[39m\u001b[38;5;124m\"\u001b[39m,\n\u001b[1;32m    284\u001b[0m             \u001b[38;5;28mdict\u001b[39m(\n\u001b[1;32m    285\u001b[0m                 expression\u001b[38;5;241m=\u001b[39mexpression,\n\u001b[1;32m    286\u001b[0m                 arg\u001b[38;5;241m=\u001b[39mserialize_argument(arg),\n\u001b[1;32m    287\u001b[0m             ),\n\u001b[1;32m    288\u001b[0m         )\n\u001b[1;32m    289\u001b[0m     )\n",
      "File \u001b[0;32m~/.python/current/lib/python3.10/site-packages/playwright/_impl/_connection.py:63\u001b[0m, in \u001b[0;36mChannel.send\u001b[0;34m(self, method, params)\u001b[0m\n\u001b[1;32m     62\u001b[0m \u001b[38;5;28;01masync\u001b[39;00m \u001b[38;5;28;01mdef\u001b[39;00m \u001b[38;5;21msend\u001b[39m(\u001b[38;5;28mself\u001b[39m, method: \u001b[38;5;28mstr\u001b[39m, params: Dict \u001b[38;5;241m=\u001b[39m \u001b[38;5;28;01mNone\u001b[39;00m) \u001b[38;5;241m-\u001b[39m\u001b[38;5;241m>\u001b[39m Any:\n\u001b[0;32m---> 63\u001b[0m     \u001b[38;5;28;01mreturn\u001b[39;00m \u001b[38;5;28;01mawait\u001b[39;00m \u001b[38;5;28mself\u001b[39m\u001b[38;5;241m.\u001b[39m_connection\u001b[38;5;241m.\u001b[39mwrap_api_call(\n\u001b[1;32m     64\u001b[0m         \u001b[38;5;28;01mlambda\u001b[39;00m: \u001b[38;5;28mself\u001b[39m\u001b[38;5;241m.\u001b[39minner_send(method, params, \u001b[38;5;28;01mFalse\u001b[39;00m)\n\u001b[1;32m     65\u001b[0m     )\n",
      "File \u001b[0;32m~/.python/current/lib/python3.10/site-packages/playwright/_impl/_connection.py:495\u001b[0m, in \u001b[0;36mConnection.wrap_api_call\u001b[0;34m(self, cb, is_internal)\u001b[0m\n\u001b[1;32m    493\u001b[0m \u001b[38;5;28mself\u001b[39m\u001b[38;5;241m.\u001b[39m_api_zone\u001b[38;5;241m.\u001b[39mset(_extract_stack_trace_information_from_stack(st, is_internal))\n\u001b[1;32m    494\u001b[0m \u001b[38;5;28;01mtry\u001b[39;00m:\n\u001b[0;32m--> 495\u001b[0m     \u001b[38;5;28;01mreturn\u001b[39;00m \u001b[38;5;28;01mawait\u001b[39;00m cb()\n\u001b[1;32m    496\u001b[0m \u001b[38;5;28;01mfinally\u001b[39;00m:\n\u001b[1;32m    497\u001b[0m     \u001b[38;5;28mself\u001b[39m\u001b[38;5;241m.\u001b[39m_api_zone\u001b[38;5;241m.\u001b[39mset(\u001b[38;5;28;01mNone\u001b[39;00m)\n",
      "File \u001b[0;32m~/.python/current/lib/python3.10/site-packages/playwright/_impl/_connection.py:101\u001b[0m, in \u001b[0;36mChannel.inner_send\u001b[0;34m(self, method, params, return_as_dict)\u001b[0m\n\u001b[1;32m     99\u001b[0m \u001b[38;5;28;01mif\u001b[39;00m \u001b[38;5;129;01mnot\u001b[39;00m callback\u001b[38;5;241m.\u001b[39mfuture\u001b[38;5;241m.\u001b[39mdone():\n\u001b[1;32m    100\u001b[0m     callback\u001b[38;5;241m.\u001b[39mfuture\u001b[38;5;241m.\u001b[39mcancel()\n\u001b[0;32m--> 101\u001b[0m result \u001b[38;5;241m=\u001b[39m \u001b[38;5;28;43mnext\u001b[39;49m\u001b[43m(\u001b[49m\u001b[38;5;28;43miter\u001b[39;49m\u001b[43m(\u001b[49m\u001b[43mdone\u001b[49m\u001b[43m)\u001b[49m\u001b[43m)\u001b[49m\u001b[38;5;241;43m.\u001b[39;49m\u001b[43mresult\u001b[49m\u001b[43m(\u001b[49m\u001b[43m)\u001b[49m\n\u001b[1;32m    102\u001b[0m \u001b[38;5;66;03m# Protocol now has named return values, assume result is one level deeper unless\u001b[39;00m\n\u001b[1;32m    103\u001b[0m \u001b[38;5;66;03m# there is explicit ambiguity.\u001b[39;00m\n\u001b[1;32m    104\u001b[0m \u001b[38;5;28;01mif\u001b[39;00m \u001b[38;5;129;01mnot\u001b[39;00m result:\n",
      "\u001b[0;31mError\u001b[0m: document.querySelector(...) is null\n@debugger eval code line 226 > eval:1:16\nevaluate@debugger eval code:233:19\n@debugger eval code:1:44\n"
     ]
    }
   ],
   "source": [
    "import asyncio\n",
    "from playwright.async_api import async_playwright,Page\n",
    "url3='https://shop.advanceautoparts.com/'\n",
    "# parts = '674-136'\n",
    "parts = \"49058\"\n",
    "dollar = 'css-15cggpf'\n",
    "cent = 'css-2izyy6'\n",
    "async def verify_page_entry():\n",
    "    async with async_playwright() as p:\n",
    "        browser = await p.firefox.launch()\n",
    "        context = await browser.new_context()\n",
    "        page = await context.new_page()\n",
    "        response = await page.goto(url3)\n",
    "        elements = await page.locator(\"#search-input\").fill(f\"{parts}\") \n",
    "        await page.keyboard.press(\"Enter\")\n",
    "        await page.wait_for_timeout(5000)\n",
    "\n",
    "\n",
    "        await page.screenshot(path=\" input battery screenshot1.png\")\n",
    "        print(dollar)\n",
    "        element_dollars = await page.evaluate(f\"() => document.querySelector('.{dollar}').textContent\")\n",
    "        elements_cent = await page.evaluate(f\"() => document.querySelector('.{cent}').textContent\")\n",
    "        dollar_amount = element_dollars + \"\" + elements_cent\n",
    "        # # Check the HTTP response status code to verify successful entry\n",
    "        print('Compprice $:',dollar_amount)\n",
    "        \n",
    "        status = response.status\n",
    "        if status == 200:\n",
    "            print(f\"Successfully entered the shop adavance website for parts number  = {parts}\")\n",
    "            print(status)\n",
    "        else:\n",
    "            print(f\"Failed to enter the website. Status code: {status}\")\n",
    "\n",
    "        # Close the browser\n",
    "        await browser.close()\n",
    "\n",
    "# Run the verification function\n",
    "await verify_page_entry()"
   ]
  },
  {
   "cell_type": "code",
   "execution_count": 2,
   "metadata": {},
   "outputs": [
    {
     "ename": "RuntimeError",
     "evalue": "asyncio.run() cannot be called from a running event loop",
     "output_type": "error",
     "traceback": [
      "\u001b[0;31m---------------------------------------------------------------------------\u001b[0m",
      "\u001b[0;31mRuntimeError\u001b[0m                              Traceback (most recent call last)",
      "Cell \u001b[0;32mIn[2], line 16\u001b[0m\n\u001b[1;32m     14\u001b[0m     \u001b[38;5;28;01masync\u001b[39;00m \u001b[38;5;28;01mwith\u001b[39;00m async_playwright() \u001b[38;5;28;01mas\u001b[39;00m playwright:\n\u001b[1;32m     15\u001b[0m         \u001b[38;5;28;01mawait\u001b[39;00m run(playwright)\n\u001b[0;32m---> 16\u001b[0m \u001b[43masyncio\u001b[49m\u001b[38;5;241;43m.\u001b[39;49m\u001b[43mrun\u001b[49m\u001b[43m(\u001b[49m\u001b[43mmain\u001b[49m\u001b[43m(\u001b[49m\u001b[43m)\u001b[49m\u001b[43m)\u001b[49m\n",
      "File \u001b[0;32m~/.python/current/lib/python3.10/asyncio/runners.py:33\u001b[0m, in \u001b[0;36mrun\u001b[0;34m(main, debug)\u001b[0m\n\u001b[1;32m      9\u001b[0m \u001b[38;5;250m\u001b[39m\u001b[38;5;124;03m\"\"\"Execute the coroutine and return the result.\u001b[39;00m\n\u001b[1;32m     10\u001b[0m \n\u001b[1;32m     11\u001b[0m \u001b[38;5;124;03mThis function runs the passed coroutine, taking care of\u001b[39;00m\n\u001b[0;32m   (...)\u001b[0m\n\u001b[1;32m     30\u001b[0m \u001b[38;5;124;03m    asyncio.run(main())\u001b[39;00m\n\u001b[1;32m     31\u001b[0m \u001b[38;5;124;03m\"\"\"\u001b[39;00m\n\u001b[1;32m     32\u001b[0m \u001b[38;5;28;01mif\u001b[39;00m events\u001b[38;5;241m.\u001b[39m_get_running_loop() \u001b[38;5;129;01mis\u001b[39;00m \u001b[38;5;129;01mnot\u001b[39;00m \u001b[38;5;28;01mNone\u001b[39;00m:\n\u001b[0;32m---> 33\u001b[0m     \u001b[38;5;28;01mraise\u001b[39;00m \u001b[38;5;167;01mRuntimeError\u001b[39;00m(\n\u001b[1;32m     34\u001b[0m         \u001b[38;5;124m\"\u001b[39m\u001b[38;5;124masyncio.run() cannot be called from a running event loop\u001b[39m\u001b[38;5;124m\"\u001b[39m)\n\u001b[1;32m     36\u001b[0m \u001b[38;5;28;01mif\u001b[39;00m \u001b[38;5;129;01mnot\u001b[39;00m coroutines\u001b[38;5;241m.\u001b[39miscoroutine(main):\n\u001b[1;32m     37\u001b[0m     \u001b[38;5;28;01mraise\u001b[39;00m \u001b[38;5;167;01mValueError\u001b[39;00m(\u001b[38;5;124m\"\u001b[39m\u001b[38;5;124ma coroutine was expected, got \u001b[39m\u001b[38;5;132;01m{!r}\u001b[39;00m\u001b[38;5;124m\"\u001b[39m\u001b[38;5;241m.\u001b[39mformat(main))\n",
      "\u001b[0;31mRuntimeError\u001b[0m: asyncio.run() cannot be called from a running event loop"
     ]
    }
   ],
   "source": [
    "import asyncio\n",
    "from playwright.async_api import async_playwright, Playwright\n",
    "\n",
    "async def run(playwright: Playwright):\n",
    "    iphone_13 = playwright.devices['iPhone 13']\n",
    "    browser = await playwright.webkit.launch(headless=False)\n",
    "    # context = await browser.new_context(\n",
    "    #     **iphone_13,\n",
    "    context = await browser.new_context(geolocation={\"longitude\": 41.890221, \"latitude\": 12.492348},\n",
    "                                        permissions=[\"geolocation\"]\n",
    "  )\n",
    "\n",
    "async def main():\n",
    "    async with async_playwright() as playwright:\n",
    "        await run(playwright)\n",
    "asyncio.run(main())"
   ]
  },
  {
   "cell_type": "code",
   "execution_count": 1,
   "metadata": {},
   "outputs": [],
   "source": [
    "import cv2\n",
    "import easyocr\n",
    "import matplotlib.pyplot as plt"
   ]
  },
  {
   "cell_type": "code",
   "execution_count": 15,
   "metadata": {},
   "outputs": [
    {
     "name": "stderr",
     "output_type": "stream",
     "text": [
      "Using CPU. Note: This module is much faster with a GPU.\n"
     ]
    }
   ],
   "source": [
    "# image_path = \"./advance_auto_49058.jpeg\"\n",
    "# img = cv2.imread(image_path,cv2.IMREAD_UNCHANGED)\n",
    "# img.shape\n",
    "reader = easyocr.Reader([\"en\"],gpu=False)\n",
    "# text_list = reader.readtext(img)\n",
    "# for t in text_list:\n",
    "#     print(t)"
   ]
  },
  {
   "cell_type": "code",
   "execution_count": 17,
   "metadata": {},
   "outputs": [
    {
     "data": {
      "text/plain": [
       "'s662.99 MagnaFlow Direct Fit Catalytic Converter: No Fabrication Needed EPA Compliance Part 49058 Excluded from discounts No Reviews'"
      ]
     },
     "execution_count": 17,
     "metadata": {},
     "output_type": "execute_result"
    }
   ],
   "source": [
    "\"\"\"ADVANCE AUTO\"\"\"\n",
    "from PIL import Image, ImageFilter\n",
    "import numpy as np\n",
    "image_path = \"./Web capture_26-2-2024_19494_shop.advanceautoparts.com_49058.jpeg\"\n",
    "img = Image.open(image_path)\n",
    "# enhanced_image = cv2.convertScaleAbs(img,alpha=1.5,beta=0)\n",
    "sharpened_image = img.filter(ImageFilter.SHARPEN)\n",
    "# cv2_img = cv2.imread(sharpened_image,cv2.IMREAD_UNCHANGED)\n",
    "text_list = reader.readtext(np.array(sharpened_image),paragraph=True,y_ths=1)\n",
    "product_information = list(\n",
    "    filter(\n",
    "        lambda x: 'magnaflow' in str(x[1]).lower() and '49058' in str(x[1]).lower(), text_list\n",
    "    )\n",
    ")[0][1]\n",
    "product_information"
   ]
  },
  {
   "cell_type": "code",
   "execution_count": 8,
   "metadata": {},
   "outputs": [
    {
     "data": {
      "text/plain": [
       "'Engine Dorman Exhaust Manifold 674-316 ShopAlDorman (Q) Write A Review Part #674-316 SKU #215197 Year Warranty Check if this fits your vehicle_ s52199 Pay in 4 interest-free payments of $130.50. Learn more In-Store Pickup Home Delivery Ready today FREE Get it By Feb: 20'"
      ]
     },
     "execution_count": 8,
     "metadata": {},
     "output_type": "execute_result"
    }
   ],
   "source": [
    "\"\"\"AUTO-ZONE\"\"\"\n",
    "from PIL import Image, ImageFilter\n",
    "import numpy as np\n",
    "image_path = \"./674-316_autozone.png\"\n",
    "img = Image.open(image_path)\n",
    "# enhanced_image = cv2.convertScaleAbs(img,alpha=1.5,beta=0)\n",
    "sharpened_image = img.filter(ImageFilter.SHARPEN)\n",
    "# cv2_img = cv2.imread(sharpened_image,cv2.IMREAD_UNCHANGED)\n",
    "text_list = reader.readtext(np.array(sharpened_image),paragraph=True,y_ths=3)\n",
    "# for t in text_list:\n",
    "#     print(t)\n",
    "product_information = list(\n",
    "    filter(\n",
    "        lambda x: 'dorman' in str(x[1]).lower() and '674-316' in str(x[1]).lower(), text_list\n",
    "    )\n",
    ")[0][1]\n",
    "product_information"
   ]
  },
  {
   "cell_type": "code",
   "execution_count": 11,
   "metadata": {},
   "outputs": [
    {
     "data": {
      "text/plain": [
       "'20% Off On Orders S125+ With Code: PREZ #Online Only. Exclusions apply: Ends 2/20 English 9330 Roselawn St (Closed) Sign in PRO SERVICES TRACK ORDER NAPA _ Add New Vehicle NOE 60280791 ACCESSORIES DEALS REPAIR KNOW ALL PRODUCTS SERVICES HOW ONE DAY SHIPPING* RESERVED RESERVE ONLINE, PICKUP IN STORE on 160K+ Parts Same Day Available Home NOE 60280791 Results for \"NOE 60280791\" Sort By Relevance Select a vehicle for exact fit parts  Select a vehicle> Part Type Recommended 20% off Eligible CATALYTIC CONVERTER S564.991 Catalytic Converter (1) each Part # NOE 60280791 Store Pick up: Unavailable Brand Add a vehicle to guarantee fit at 9330 Roselawn St 48204 Dorman Free Shipping: on orders over S35 Get it by Wed, Feb 21 Oo Price Range 002058068'"
      ]
     },
     "execution_count": 11,
     "metadata": {},
     "output_type": "execute_result"
    }
   ],
   "source": [
    "\"\"\"NAPA\"\"\"\n",
    "from PIL import Image, ImageFilter\n",
    "import numpy as np\n",
    "image_path = \"./NOE_60280791_napa.png\"\n",
    "img = Image.open(image_path)\n",
    "# enhanced_image = cv2.convertScaleAbs(img,alpha=1.5,beta=0)\n",
    "sharpened_image = img.filter(ImageFilter.SHARPEN)\n",
    "# cv2_img = cv2.imread(sharpened_image,cv2.IMREAD_UNCHANGED)\n",
    "text_list = reader.readtext(np.array(sharpened_image),paragraph=True,y_ths=3)\n",
    "# for t in text_list:\n",
    "#     print(t)\n",
    "product_information = list(\n",
    "    filter(\n",
    "        lambda x: 'catalytic converter' in str(x[1]).lower() and 'noe 60280791' in str(x[1]).lower(), text_list\n",
    "    )\n",
    ")[0][1]\n",
    "product_information"
   ]
  },
  {
   "cell_type": "code",
   "execution_count": 14,
   "metadata": {},
   "outputs": [
    {
     "data": {
      "text/plain": [
       "'Walker Quiet-Flow SS Stainless Steel Exhaust Muffler 50091 Part # 50091 Line: WAL 0.0 (0) Check Vehicle Fit S232.99 Each Note: Not eligible_for Free_Shipping_ FREE Pick Up not available Item not sold in selected store Call Store_to Qrder Deliver by Wed; Feb 21 ADD TO CART Addto_Shopping_List Limited Lifetime Warranty Reversible: No'"
      ]
     },
     "execution_count": 14,
     "metadata": {},
     "output_type": "execute_result"
    }
   ],
   "source": [
    "\"\"\"OREILY\"\"\"\n",
    "image_path = \"./50091_oreily.png\"\n",
    "img = Image.open(image_path)\n",
    "# enhanced_image = cv2.convertScaleAbs(img,alpha=1.5,beta=0)\n",
    "sharpened_image = img.filter(ImageFilter.SHARPEN)\n",
    "# cv2_img = cv2.imread(sharpened_image,cv2.IMREAD_UNCHANGED)\n",
    "text_list = reader.readtext(np.array(sharpened_image),paragraph=True,y_ths=3)\n",
    "# for t in text_list:\n",
    "#     print(t)\n",
    "product_information = list(\n",
    "    filter(\n",
    "        lambda x: 'walker' in str(x[1]).lower() and '# 50091' in str(x[1]).lower(), text_list\n",
    "    )\n",
    ")[0][1]\n",
    "product_information"
   ]
  },
  {
   "cell_type": "code",
   "execution_count": 29,
   "metadata": {},
   "outputs": [],
   "source": [
    "import asyncio\n",
    "from playwright.async_api import async_playwright\n",
    "from PIL import Image\n",
    "\n",
    "async def capture_screenshots():\n",
    "    async with async_playwright() as p:\n",
    "        browser = await p.chromium.launch()\n",
    "        page = await browser.new_page()\n",
    "        await page.goto(\"https://shop.advanceautoparts.com/web/SearchResults?searchTerm=49058&storeId=10151&catalogId=10051&langId=-1\")\n",
    "\n",
    "        # Capture first half of the webpage\n",
    "        await page.wait_for_timeout(5000)\n",
    "        await page.screenshot(path='screenshot1.png',full_page=False, clip={'x': 0, 'y': 0, 'width': page.viewport_size['width'], 'height': page.viewport_size['height'] // 2})\n",
    "        # await screenshot1.save_as(path='screenshot1.png')\n",
    "\n",
    "        # Scroll to the second half of the webpage\n",
    "        await page.evaluate('window.scrollTo(0, document.body.scrollHeight)')\n",
    "\n",
    "        # Capture the second half of the webpage\n",
    "        await page.wait_for_timeout(5000)\n",
    "        await page.screenshot(path='screenshot2.png',full_page=False, clip={'x': 0, 'y': page.viewport_size['height'] // 2, 'width': page.viewport_size['width'], 'height': page.viewport_size['height'] // 2})\n",
    "        # await screenshot2.save_as(path='screenshot2.png')\n",
    "\n",
    "        await browser.close()\n",
    "\n",
    "# Run the asynchronous function\n",
    "# asyncio.get_event_loop().run_until_complete(capture_screenshots())\n",
    "await capture_screenshots()"
   ]
  },
  {
   "cell_type": "code",
   "execution_count": 3,
   "metadata": {},
   "outputs": [
    {
     "name": "stdout",
     "output_type": "stream",
     "text": [
      "Requirement already satisfied: nest_asyncio in /home/codespace/.local/lib/python3.10/site-packages (1.5.8)\n",
      "\n",
      "\u001b[1m[\u001b[0m\u001b[34;49mnotice\u001b[0m\u001b[1;39;49m]\u001b[0m\u001b[39;49m A new release of pip is available: \u001b[0m\u001b[31;49m23.3.2\u001b[0m\u001b[39;49m -> \u001b[0m\u001b[32;49m24.0\u001b[0m\n",
      "\u001b[1m[\u001b[0m\u001b[34;49mnotice\u001b[0m\u001b[1;39;49m]\u001b[0m\u001b[39;49m To update, run: \u001b[0m\u001b[32;49mpython -m pip install --upgrade pip\u001b[0m\n",
      "Reading package lists... Done\n",
      "Building dependency tree       \n",
      "Reading state information... Done\n",
      "libgbm1 is already the newest version (21.2.6-0ubuntu0.1~20.04.2).\n",
      "libnspr4 is already the newest version (2:4.25-1).\n",
      "libnss3 is already the newest version (2:3.49.1-1ubuntu1.9).\n",
      "0 upgraded, 0 newly installed, 0 to remove and 0 not upgraded.\n",
      "Reading package lists... Done\n",
      "Building dependency tree       \n",
      "Reading state information... Done\n",
      "E: Unable to locate package libappindicator3-1\n",
      "Reading package lists... Done\n",
      "Building dependency tree       \n",
      "Reading state information... Done\n",
      "E: Unable to locate package libdbus-glib-1-2\n",
      "Reading package lists... Done\n",
      "Building dependency tree       \n",
      "Reading state information... Done\n",
      "Package fonts-liberation is not available, but is referred to by another package.\n",
      "This may mean that the package is missing, has been obsoleted, or\n",
      "is only available from another source\n",
      "\n",
      "E: Package 'fonts-liberation' has no installation candidate\n",
      "Requirement already satisfied: openpyxl in /usr/local/python/3.10.13/lib/python3.10/site-packages (3.1.2)\n",
      "Requirement already satisfied: et-xmlfile in /usr/local/python/3.10.13/lib/python3.10/site-packages (from openpyxl) (1.1.0)\n",
      "\n",
      "\u001b[1m[\u001b[0m\u001b[34;49mnotice\u001b[0m\u001b[1;39;49m]\u001b[0m\u001b[39;49m A new release of pip is available: \u001b[0m\u001b[31;49m23.3.2\u001b[0m\u001b[39;49m -> \u001b[0m\u001b[32;49m24.0\u001b[0m\n",
      "\u001b[1m[\u001b[0m\u001b[34;49mnotice\u001b[0m\u001b[1;39;49m]\u001b[0m\u001b[39;49m To update, run: \u001b[0m\u001b[32;49mpython -m pip install --upgrade pip\u001b[0m\n",
      "Reading package lists... Done\n",
      "Building dependency tree       \n",
      "Reading state information... Done\n",
      "E: Unable to locate package libnss3-tools\n",
      "E: Unable to locate package libcups2-dev\n",
      "E: Unable to locate package libxkbcommon-x11-0\n",
      "E: Unable to locate package libxcomposite-dev\n",
      "E: Unable to locate package libgbm-dev\n"
     ]
    }
   ],
   "source": [
    "!playwright install\n",
    "!pip install nest_asyncio\n",
    "!playwright install\n",
    "!sudo  apt-get install -y libnss3 libnspr4 libgbm1\n",
    "!sudo  apt-get install -y libappindicator3-1\n",
    "!sudo  apt-get install -y libdbus-glib-1-2\n",
    "!sudo  apt-get install -y fonts-liberation\n",
    "!pip install openpyxl\n",
    "!sudo  apt-get install -y libnss3-tools libatk-bridge2.0-0 libcups2-dev libxkbcommon-x11-0 libxcomposite-dev libxrandr2 libgbm-dev libgtk-3-0"
   ]
  },
  {
   "cell_type": "code",
   "execution_count": null,
   "metadata": {},
   "outputs": [],
   "source": []
  }
 ],
 "metadata": {
  "kernelspec": {
   "display_name": "Python 3",
   "language": "python",
   "name": "python3"
  },
  "language_info": {
   "codemirror_mode": {
    "name": "ipython",
    "version": 3
   },
   "file_extension": ".py",
   "mimetype": "text/x-python",
   "name": "python",
   "nbconvert_exporter": "python",
   "pygments_lexer": "ipython3",
   "version": "3.10.13"
  }
 },
 "nbformat": 4,
 "nbformat_minor": 2
}
